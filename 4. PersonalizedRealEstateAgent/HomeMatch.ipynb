{
 "cells": [
  {
   "cell_type": "markdown",
   "id": "a108af04",
   "metadata": {},
   "source": [
    "This is a starter notebook for the project, you'll have to import the libraries you'll need, you can find a list of the ones available in this workspace in the requirements.txt file in this workspace. "
   ]
  },
  {
   "cell_type": "markdown",
   "id": "36e62842",
   "metadata": {},
   "source": [
    "### Install and import python dependencies"
   ]
  },
  {
   "cell_type": "code",
   "execution_count": null,
   "id": "6554fd4c",
   "metadata": {},
   "outputs": [],
   "source": [
    "import os\n",
    "import shutil\n",
    "import pandas as pd\n",
    "from typing import List\n",
    "from langchain.llms import OpenAI\n",
    "from langchain.schema import Document\n",
    "from langchain.chat_models import ChatOpenAI\n",
    "from langchain.prompts import PromptTemplate\n",
    "from fastapi.encoders import jsonable_encoder\n",
    "from langchain.vectorstores.chroma import Chroma\n",
    "from langchain.prompts import ChatPromptTemplate\n",
    "from langchain.embeddings import OpenAIEmbeddings\n",
    "from langchain.output_parsers import PydanticOutputParser\n",
    "from langchain.text_splitter import RecursiveCharacterTextSplitter\n",
    "from langchain_core.pydantic_v1 import BaseModel, Field, NonNegativeInt"
   ]
  },
  {
   "cell_type": "markdown",
   "id": "52dfa436",
   "metadata": {},
   "source": [
    "### Define OpenAI model and API Key"
   ]
  },
  {
   "cell_type": "code",
   "execution_count": null,
   "id": "c0987920",
   "metadata": {},
   "outputs": [],
   "source": [
    "# Environment variables\n",
    "OPENAI_API_KEY = ''\n",
    "os.environ['OPENAI_API_KEY']= OPENAI_API_KEY\n",
    "MODEL_NAME = 'gpt-3.5-turbo'"
   ]
  },
  {
   "cell_type": "markdown",
   "id": "e3a4b6f0",
   "metadata": {},
   "source": [
    "### load LLM"
   ]
  },
  {
   "cell_type": "code",
   "execution_count": 5,
   "id": "0586bebb",
   "metadata": {},
   "outputs": [
    {
     "name": "stderr",
     "output_type": "stream",
     "text": [
      "/home/student/.local/lib/python3.10/site-packages/langchain/llms/openai.py:216: UserWarning: You are trying to use a chat model. This way of initializing it is no longer supported. Instead, please use: `from langchain.chat_models import ChatOpenAI`\n",
      "  warnings.warn(\n",
      "/home/student/.local/lib/python3.10/site-packages/langchain/llms/openai.py:811: UserWarning: You are trying to use a chat model. This way of initializing it is no longer supported. Instead, please use: `from langchain.chat_models import ChatOpenAI`\n",
      "  warnings.warn(\n"
     ]
    }
   ],
   "source": [
    "llm = OpenAI(model_name=MODEL_NAME, temperature=0, api_key=OPENAI_API_KEY)"
   ]
  },
  {
   "cell_type": "markdown",
   "id": "380dbfaa",
   "metadata": {},
   "source": [
    "## Step 1: Synthetic Data Generation - Generating Real Estate Listings with an LLM"
   ]
  },
  {
   "cell_type": "code",
   "execution_count": null,
   "id": "eca80f8e",
   "metadata": {},
   "outputs": [],
   "source": [
    "instruction = \"Generate a CSV file with at least 10 real estate listings.\"\n",
    "sample_listing= \"\"\"\n",
    "                Neighborhood: Green Oaks\n",
    "                Price: $800,000\n",
    "                Bedrooms: 3\n",
    "                Bathrooms: 2\n",
    "                House Size: 2,000 sqft\n",
    "\n",
    "                Description: Welcome to this eco-friendly oasis nestled in the heart of Green Oaks. This charming 3-bedroom, 2-bathroom home boasts energy-efficient features such as solar panels and a well-insulated structure. Natural light floods the living spaces, highlighting the beautiful hardwood floors and eco-conscious finishes. The open-concept kitchen and dining area lead to a spacious backyard with a vegetable garden, perfect for the eco-conscious family. Embrace sustainable living without compromising on style in this Green Oaks gem.\n",
    "\n",
    "                Neighborhood Description: Green Oaks is a close-knit, environmentally-conscious community with access to organic grocery stores, community gardens, and bike paths. Take a stroll through the nearby Green Oaks Park or grab a cup of coffee at the cozy Green Bean Cafe. With easy access to public transportation and bike lanes, commuting is a breeze.\n",
    "                \"\"\""
   ]
  },
  {
   "cell_type": "code",
   "execution_count": 7,
   "id": "68adf89d",
   "metadata": {},
   "outputs": [],
   "source": [
    "class RealEstateListing(BaseModel):\n",
    "    \"\"\"\n",
    "    A real estate listing.\n",
    "    \n",
    "    Attributes:\n",
    "    - neighborhood: str\n",
    "    - price: NonNegativeInt\n",
    "    - bedrooms: NonNegativeInt\n",
    "    - bathrooms: NonNegativeInt\n",
    "    - house_size: NonNegativeInt\n",
    "    - description: str\n",
    "    - neighborhood_description: str\n",
    "    \"\"\"\n",
    "    neighborhood: str = Field(description=\"The neighborhood where the property is located\")\n",
    "    price: NonNegativeInt = Field(description=\"The price of the property in USD\")\n",
    "    bedrooms: NonNegativeInt = Field(description=\"The number of bedrooms in the property\")\n",
    "    bathrooms: NonNegativeInt = Field(description=\"The number of bathrooms in the property\")\n",
    "    house_size: NonNegativeInt = Field(description=\"The size of the house in square feet\")\n",
    "    description: str = Field(description=\"A description of the property\")\n",
    "    neighborhood_description: str = Field(description=\"A description of the neighborhood.\")  \n",
    "\n",
    "class ListingCollection(BaseModel):\n",
    "    \"\"\"\n",
    "    A collection of real estate listings.\n",
    "    \n",
    "    Attributes:\n",
    "    - listings: List[RealEstateListing]\n",
    "    \"\"\"\n",
    "    listings: List[RealEstateListing] = Field(description=\"A list of real estate listings\")"
   ]
  },
  {
   "cell_type": "code",
   "execution_count": 8,
   "id": "0f486720",
   "metadata": {},
   "outputs": [],
   "source": [
    "# generate parsed output\n",
    "parser = PydanticOutputParser(pydantic_object=ListingCollection)"
   ]
  },
  {
   "cell_type": "code",
   "execution_count": 9,
   "id": "9902550b",
   "metadata": {},
   "outputs": [
    {
     "name": "stdout",
     "output_type": "stream",
     "text": [
      "Generate a CSV file with at least 10 real estate listings.\n",
      "\n",
      "Neighborhood: Green Oaks\n",
      "Price: $800,000\n",
      "Bedrooms: 3\n",
      "Bathrooms: 2\n",
      "House Size: 2,000 sqft\n",
      "\n",
      "Description: Welcome to this eco-friendly oasis nestled in the heart of Green Oaks. This charming 3-bedroom, 2-bathroom home boasts energy-efficient features such as solar panels and a well-insulated structure. Natural light floods the living spaces, highlighting the beautiful hardwood floors and eco-conscious finishes. The open-concept kitchen and dining area lead to a spacious backyard with a vegetable garden, perfect for the eco-conscious family. Embrace sustainable living without compromising on style in this Green Oaks gem.\n",
      "\n",
      "Neighborhood Description: Green Oaks is a close-knit, environmentally-conscious community with access to organic grocery stores, community gardens, and bike paths. Take a stroll through the nearby Green Oaks Park or grab a cup of coffee at the cozy Green Bean Cafe. With easy access to public transportation and bike lanes, commuting is a breeze.\n",
      "\n",
      "The output should be formatted as a JSON instance that conforms to the JSON schema below.\n",
      "\n",
      "As an example, for the schema {\"properties\": {\"foo\": {\"title\": \"Foo\", \"description\": \"a list of strings\", \"type\": \"array\", \"items\": {\"type\": \"string\"}}}, \"required\": [\"foo\"]}\n",
      "the object {\"foo\": [\"bar\", \"baz\"]} is a well-formatted instance of the schema. The object {\"properties\": {\"foo\": [\"bar\", \"baz\"]}} is not well-formatted.\n",
      "\n",
      "Here is the output schema:\n",
      "```\n",
      "{\"description\": \"A collection of real estate listings.\\n\\nAttributes:\\n- listings: List[RealEstateListing]\", \"properties\": {\"listings\": {\"title\": \"Listings\", \"description\": \"A list of real estate listings\", \"type\": \"array\", \"items\": {\"$ref\": \"#/definitions/RealEstateListing\"}}}, \"required\": [\"listings\"], \"definitions\": {\"RealEstateListing\": {\"title\": \"RealEstateListing\", \"description\": \"A real estate listing.\\n\\nAttributes:\\n- neighborhood: str\\n- price: NonNegativeInt\\n- bedrooms: NonNegativeInt\\n- bathrooms: NonNegativeInt\\n- house_size: NonNegativeInt\\n- description: str\\n- neighborhood_description: str\", \"type\": \"object\", \"properties\": {\"neighborhood\": {\"title\": \"Neighborhood\", \"description\": \"The neighborhood where the property is located\", \"type\": \"string\"}, \"price\": {\"title\": \"Price\", \"description\": \"The price of the property in USD\", \"minimum\": 0, \"type\": \"integer\"}, \"bedrooms\": {\"title\": \"Bedrooms\", \"description\": \"The number of bedrooms in the property\", \"minimum\": 0, \"type\": \"integer\"}, \"bathrooms\": {\"title\": \"Bathrooms\", \"description\": \"The number of bathrooms in the property\", \"minimum\": 0, \"type\": \"integer\"}, \"house_size\": {\"title\": \"House Size\", \"description\": \"The size of the house in square feet\", \"minimum\": 0, \"type\": \"integer\"}, \"description\": {\"title\": \"Description\", \"description\": \"A description of the property\", \"type\": \"string\"}, \"neighborhood_description\": {\"title\": \"Neighborhood Description\", \"description\": \"A description of the neighborhood.\", \"type\": \"string\"}}, \"required\": [\"neighborhood\", \"price\", \"bedrooms\", \"bathrooms\", \"house_size\", \"description\", \"neighborhood_description\"]}}}\n",
      "```\n",
      "\n"
     ]
    }
   ],
   "source": [
    "# printing the prompt\n",
    "prompt = PromptTemplate(\n",
    "    template=\"{instruction}\\n{sample}\\n{format_instructions}\\n\",\n",
    "    input_variables=[\"instruction\", \"sample\"],\n",
    "    partial_variables={\"format_instructions\": parser.get_format_instructions},\n",
    ")\n",
    "\n",
    "query = prompt.format(\n",
    "    instruction=instruction,\n",
    "    sample=sample_listing,\n",
    ")\n",
    "print(query)"
   ]
  },
  {
   "cell_type": "code",
   "execution_count": 10,
   "id": "809ab3b8",
   "metadata": {},
   "outputs": [],
   "source": [
    "# get the response\n",
    "response = llm(query)"
   ]
  },
  {
   "cell_type": "code",
   "execution_count": 11,
   "id": "e407a467",
   "metadata": {},
   "outputs": [
    {
     "data": {
      "text/html": [
       "<div>\n",
       "<style scoped>\n",
       "    .dataframe tbody tr th:only-of-type {\n",
       "        vertical-align: middle;\n",
       "    }\n",
       "\n",
       "    .dataframe tbody tr th {\n",
       "        vertical-align: top;\n",
       "    }\n",
       "\n",
       "    .dataframe thead th {\n",
       "        text-align: right;\n",
       "    }\n",
       "</style>\n",
       "<table border=\"1\" class=\"dataframe\">\n",
       "  <thead>\n",
       "    <tr style=\"text-align: right;\">\n",
       "      <th></th>\n",
       "      <th>neighborhood</th>\n",
       "      <th>price</th>\n",
       "      <th>bedrooms</th>\n",
       "      <th>bathrooms</th>\n",
       "      <th>house_size</th>\n",
       "      <th>description</th>\n",
       "      <th>neighborhood_description</th>\n",
       "    </tr>\n",
       "  </thead>\n",
       "  <tbody>\n",
       "    <tr>\n",
       "      <th>0</th>\n",
       "      <td>Green Oaks</td>\n",
       "      <td>800000</td>\n",
       "      <td>3</td>\n",
       "      <td>2</td>\n",
       "      <td>2000</td>\n",
       "      <td>Welcome to this eco-friendly oasis nestled in ...</td>\n",
       "      <td>Green Oaks is a close-knit, environmentally-co...</td>\n",
       "    </tr>\n",
       "    <tr>\n",
       "      <th>1</th>\n",
       "      <td>Sunnyvale</td>\n",
       "      <td>950000</td>\n",
       "      <td>4</td>\n",
       "      <td>3</td>\n",
       "      <td>2500</td>\n",
       "      <td>Beautiful 4-bedroom, 3-bathroom home located i...</td>\n",
       "      <td>Sunnyvale is known for its family-friendly atm...</td>\n",
       "    </tr>\n",
       "    <tr>\n",
       "      <th>2</th>\n",
       "      <td>Downtown Loft District</td>\n",
       "      <td>1200000</td>\n",
       "      <td>2</td>\n",
       "      <td>2</td>\n",
       "      <td>1800</td>\n",
       "      <td>Luxurious loft living in the heart of the Down...</td>\n",
       "      <td>The Downtown Loft District is a vibrant urban ...</td>\n",
       "    </tr>\n",
       "    <tr>\n",
       "      <th>3</th>\n",
       "      <td>Lakefront Estates</td>\n",
       "      <td>1500000</td>\n",
       "      <td>5</td>\n",
       "      <td>4</td>\n",
       "      <td>3500</td>\n",
       "      <td>Stunning lakefront property in the prestigious...</td>\n",
       "      <td>Lakefront Estates is an exclusive waterfront c...</td>\n",
       "    </tr>\n",
       "    <tr>\n",
       "      <th>4</th>\n",
       "      <td>Mountain View</td>\n",
       "      <td>1100000</td>\n",
       "      <td>3</td>\n",
       "      <td>2</td>\n",
       "      <td>2200</td>\n",
       "      <td>Charming 3-bedroom, 2-bathroom home in the des...</td>\n",
       "      <td>Mountain View is a family-friendly community w...</td>\n",
       "    </tr>\n",
       "  </tbody>\n",
       "</table>\n",
       "</div>"
      ],
      "text/plain": [
       "             neighborhood    price  bedrooms  bathrooms  house_size  \\\n",
       "0              Green Oaks   800000         3          2        2000   \n",
       "1               Sunnyvale   950000         4          3        2500   \n",
       "2  Downtown Loft District  1200000         2          2        1800   \n",
       "3       Lakefront Estates  1500000         5          4        3500   \n",
       "4           Mountain View  1100000         3          2        2200   \n",
       "\n",
       "                                         description  \\\n",
       "0  Welcome to this eco-friendly oasis nestled in ...   \n",
       "1  Beautiful 4-bedroom, 3-bathroom home located i...   \n",
       "2  Luxurious loft living in the heart of the Down...   \n",
       "3  Stunning lakefront property in the prestigious...   \n",
       "4  Charming 3-bedroom, 2-bathroom home in the des...   \n",
       "\n",
       "                            neighborhood_description  \n",
       "0  Green Oaks is a close-knit, environmentally-co...  \n",
       "1  Sunnyvale is known for its family-friendly atm...  \n",
       "2  The Downtown Loft District is a vibrant urban ...  \n",
       "3  Lakefront Estates is an exclusive waterfront c...  \n",
       "4  Mountain View is a family-friendly community w...  "
      ]
     },
     "execution_count": 11,
     "metadata": {},
     "output_type": "execute_result"
    }
   ],
   "source": [
    "# create a dataframe from the response\n",
    "result = parser.parse(response)\n",
    "df = pd.DataFrame(jsonable_encoder(result.listings))\n",
    "df.head()"
   ]
  },
  {
   "cell_type": "code",
   "execution_count": null,
   "id": "db51e4c1",
   "metadata": {},
   "outputs": [],
   "source": [
    "# save the dataframe to a csv file\n",
    "df.to_csv('generated_listings.csv', index_label = 'id')"
   ]
  },
  {
   "cell_type": "markdown",
   "id": "0b5de0cf",
   "metadata": {},
   "source": [
    "## Step 2: Semantic Search"
   ]
  },
  {
   "cell_type": "markdown",
   "id": "e556a4ba",
   "metadata": {},
   "source": [
    "### Creating a Vector Database and Storing Listings\n",
    "- Vector Database Setup: Initialize and configure ChromaDB or a similar vector database to store real estate listings.\n",
    "\n",
    "- Generating and Storing Embeddings: Convert the LLM-generated listings into suitable embeddings that capture the semantic content of each listing, and store these embeddings in the vector database."
   ]
  },
  {
   "cell_type": "code",
   "execution_count": null,
   "id": "89aea1df",
   "metadata": {},
   "outputs": [
    {
     "name": "stdout",
     "output_type": "stream",
     "text": [
      "Split 10 documents into 12 chunks.\n",
      "Luxury living in a gated community with resort-style amenities. This 4-bedroom, 3-bathroom home features a gourmet kitchen, private pool, and lush landscaping. Enjoy 24-hour security, clubhouse access, and proximity to top-rated schools.\n",
      "{'id': '8', 'start_index': 0}\n",
      "Saved 12 chunks to chroma.\n"
     ]
    }
   ],
   "source": [
    "# Initialize and configure ChromaDB or a similar vector database to store real estate listings\n",
    "CHROMA_PATH = \"chroma\"\n",
    "CSV_PATH = \"generated_listings.csv\" \n",
    "\n",
    "embedding_function = OpenAIEmbeddings()\n",
    "\n",
    "df = pd.read_csv(CSV_PATH)\n",
    "documents = []\n",
    "for index, row in df.iterrows():\n",
    "    documents.append(Document(page_content=row['description'], metadata={'id': str(index)}))\n",
    "\n",
    "\n",
    "# Split Text\n",
    "text_splitter = RecursiveCharacterTextSplitter(\n",
    "    chunk_size=300,\n",
    "    chunk_overlap=100,\n",
    "    length_function=len,\n",
    "    add_start_index=True,\n",
    ")\n",
    "chunks = text_splitter.split_documents(documents)\n",
    "print(f\"Split {len(documents)} documents into {len(chunks)} chunks.\")\n",
    "\n",
    "if chunks:\n",
    "    document = chunks[10]\n",
    "    print(document.page_content)\n",
    "    print(document.metadata)\n",
    "\n",
    "# Save to Chroma\n",
    "if os.path.exists(CHROMA_PATH):\n",
    "    shutil.rmtree(CHROMA_PATH)\n",
    "\n",
    "db = Chroma.from_documents(\n",
    "    chunks, OpenAIEmbeddings(), persist_directory=CHROMA_PATH\n",
    ")\n",
    "db.persist()\n",
    "print(f\"Saved {len(chunks)} chunks to {CHROMA_PATH}.\")"
   ]
  },
  {
   "cell_type": "markdown",
   "id": "fe54b37f",
   "metadata": {},
   "source": [
    "### Semantic Search of Listings Based on Buyer Preferences\n",
    "- Collect buyer preferences, such as the number of bedrooms, bathrooms, location, and other specific requirements from a set of questions or telling the buyer to enter their preferences in natural language. You can hard-code the buyer preferences in questions and answers, or collect them interactively however you'd like.\n",
    "- Buyer Preference Parsing: Implement logic to interpret and structure these preferences for querying the vector database."
   ]
  },
  {
   "cell_type": "code",
   "execution_count": 14,
   "id": "aaed5e5a",
   "metadata": {},
   "outputs": [],
   "source": [
    "query_text = \"A comfortable 4-bedroom house with a spacious kitchen and a beautiful living room.\" "
   ]
  },
  {
   "cell_type": "code",
   "execution_count": null,
   "id": "424541ff",
   "metadata": {},
   "outputs": [],
   "source": [
    "PROMPT_TEMPLATE =\\\n",
    "\"\"\"\n",
    "Based on the following context:\n",
    "\n",
    "{context}\n",
    "\n",
    "---\n",
    "\n",
    "Answer the question : {question}\n",
    "\"\"\""
   ]
  },
  {
   "cell_type": "markdown",
   "id": "73e58ee3",
   "metadata": {},
   "source": [
    "### Searching Based on Preferences\n",
    "- Semantic Search Implementation: Use the structured buyer preferences to perform a semantic search on the vector database, retrieving listings that most closely match the user's requirements.\n",
    "- Listing Retrieval Logic: Fine-tune the retrieval algorithm to ensure that the most relevant listings are selected based on the semantic closeness to the buyer’s preferences."
   ]
  },
  {
   "cell_type": "code",
   "execution_count": 17,
   "id": "2cb08cad",
   "metadata": {},
   "outputs": [],
   "source": [
    "def predict_response(query_text, PROMPT_TEMPLATE):\n",
    "    embedding_function = OpenAIEmbeddings()\n",
    "    db = Chroma(persist_directory=CHROMA_PATH, embedding_function=embedding_function)\n",
    "\n",
    "    # Search the DB.\n",
    "    results = db.similarity_search_with_relevance_scores(query_text, k=3)\n",
    "    if len(results) == 0 or results[0][1] < 0.7:\n",
    "        print(f\"Unable to find matching results.\")\n",
    "    else:\n",
    "        context_text = \"\\n\\n---\\n\\n\".join([doc.page_content for doc, _score in results])\n",
    "        prompt_template = ChatPromptTemplate.from_template(PROMPT_TEMPLATE)\n",
    "        prompt = prompt_template.format(context=context_text, question=query_text)\n",
    "        print(f\"Generated Prompt:\\n{prompt}\")\n",
    "        \n",
    "        model = ChatOpenAI()\n",
    "        response_text = model.predict(prompt)\n",
    "        sources = [doc.metadata.get(\"id\", None) for doc, _score in results]\n",
    "        formatted_response = f\"Response: {response_text}\\nSources: {sources}\"\n",
    "        print(formatted_response)"
   ]
  },
  {
   "cell_type": "code",
   "execution_count": 19,
   "id": "688a7422",
   "metadata": {},
   "outputs": [
    {
     "name": "stdout",
     "output_type": "stream",
     "text": [
      "Generated Prompt:\n",
      "Human: \n",
      "Based on the following context:\n",
      "\n",
      "Experience luxury living in this oceanfront paradise. This 4-bedroom, 3-bathroom home features a gourmet kitchen, private beach access, and breathtaking views of the Pacific Ocean. Relax on the rooftop deck or entertain guests in the outdoor living space.\n",
      "\n",
      "---\n",
      "\n",
      "Beautiful 4-bedroom, 3-bathroom home located in the desirable neighborhood of Sunnyvale. This spacious property features a modern kitchen, luxurious bathrooms, and a large backyard perfect for entertaining. Enjoy the convenience of nearby shopping centers, parks, and top-rated schools.\n",
      "\n",
      "---\n",
      "\n",
      "Escape to this peaceful rural retreat surrounded by nature. This 3-bedroom, 2-bathroom home features a wrap-around porch, country kitchen, and expansive backyard. Enjoy gardening, birdwatching, and stargazing in this serene setting.\n",
      "\n",
      "---\n",
      "\n",
      "Answer the question : A comfortable 4-bedroom house with a spacious kitchen and a beautiful living room.\n",
      "\n",
      "Response: The second option, the beautiful 4-bedroom, 3-bathroom home located in Sunnyvale, would be a great choice for a comfortable living space with a spacious kitchen and beautiful living room.\n",
      "Sources: ['5', '1', '9']\n"
     ]
    }
   ],
   "source": [
    "predict_response(query_text, PROMPT_TEMPLATE)"
   ]
  },
  {
   "cell_type": "markdown",
   "id": "279a1f7a",
   "metadata": {},
   "source": [
    "## Step 3: Augmented Response Generation\n",
    "\n",
    "### Personalizing Listing Descriptions\n",
    "- LLM Augmentation: For each retrieved listing, use the LLM to augment the description, tailoring it to resonate with the buyer’s specific preferences. This involves subtly emphasizing aspects of the property that align with what the buyer is looking for.\n",
    "- Maintaining Factual Integrity: Ensure that the augmentation process enhances the appeal of the listing without altering factual information."
   ]
  },
  {
   "cell_type": "code",
   "execution_count": 20,
   "id": "c4198867",
   "metadata": {},
   "outputs": [],
   "source": [
    "AUGMENT_PROMPT_TEMPLATE =\\\n",
    "\"\"\"\n",
    "Based on the following context:\n",
    "\n",
    "{context}\n",
    "\n",
    "---\n",
    "\n",
    "craft a response that not only answers the question {question}, but also ensures that your explanation is distinct, captivating, and customized to align with the specified preferences. This involves subtly emphasizing aspects of the property that align with what the buyer is looking for.\n",
    "\"\"\""
   ]
  },
  {
   "cell_type": "code",
   "execution_count": 21,
   "id": "0ea4da79",
   "metadata": {},
   "outputs": [
    {
     "name": "stdout",
     "output_type": "stream",
     "text": [
      "Generated Prompt:\n",
      "Human: \n",
      "Based on the following context:\n",
      "\n",
      "Experience luxury living in this oceanfront paradise. This 4-bedroom, 3-bathroom home features a gourmet kitchen, private beach access, and breathtaking views of the Pacific Ocean. Relax on the rooftop deck or entertain guests in the outdoor living space.\n",
      "\n",
      "---\n",
      "\n",
      "Beautiful 4-bedroom, 3-bathroom home located in the desirable neighborhood of Sunnyvale. This spacious property features a modern kitchen, luxurious bathrooms, and a large backyard perfect for entertaining. Enjoy the convenience of nearby shopping centers, parks, and top-rated schools.\n",
      "\n",
      "---\n",
      "\n",
      "Escape to this peaceful rural retreat surrounded by nature. This 3-bedroom, 2-bathroom home features a wrap-around porch, country kitchen, and expansive backyard. Enjoy gardening, birdwatching, and stargazing in this serene setting.\n",
      "\n",
      "---\n",
      "\n",
      "craft a response that not only answers the question A comfortable 4-bedroom house with a spacious kitchen and a beautiful living room., but also ensures that your explanation is distinct, captivating, and customized to align with the specified preferences. This involves subtly emphasizing aspects of the property that align with what the buyer is looking for.\n",
      "\n",
      "Response: This stunning 4-bedroom home boasts a spacious kitchen equipped with modern appliances and ample storage space, perfect for hosting family gatherings and entertaining guests. The beautifully designed living room is the epitome of comfort, with large windows that flood the space with natural light and offer serene views of the surrounding neighborhood. Additionally, the property features luxurious bathrooms and a large backyard ideal for outdoor activities. This home is truly a blend of comfort, style, and functionality, making it the perfect retreat for you and your loved ones.\n",
      "Sources: ['5', '1', '9']\n"
     ]
    }
   ],
   "source": [
    "predict_response(query_text, AUGMENT_PROMPT_TEMPLATE)"
   ]
  },
  {
   "cell_type": "code",
   "execution_count": null,
   "id": "052ffe3d",
   "metadata": {},
   "outputs": [],
   "source": []
  },
  {
   "cell_type": "code",
   "execution_count": null,
   "id": "9d21632f",
   "metadata": {},
   "outputs": [],
   "source": []
  }
 ],
 "metadata": {
  "kernelspec": {
   "display_name": "Python 3 (ipykernel)",
   "language": "python",
   "name": "python3"
  },
  "language_info": {
   "codemirror_mode": {
    "name": "ipython",
    "version": 3
   },
   "file_extension": ".py",
   "mimetype": "text/x-python",
   "name": "python",
   "nbconvert_exporter": "python",
   "pygments_lexer": "ipython3",
   "version": "3.10.11"
  }
 },
 "nbformat": 4,
 "nbformat_minor": 5
}
